{
 "cells": [
  {
   "cell_type": "markdown",
   "metadata": {},
   "source": [
    "# TensorFlow从入门到精通\n",
    "# 01 简单线性模型（Simple Linear Model）\n",
    "\n",
    "Author: Amusi\n",
    "\n",
    "Date: 2018-06-30\n",
    "\n",
    "github: [TensorFlow从入门到精通](https://github.com/amusi/TensorFlow-From-Zero-To-One)\n",
    "\n",
    "Reference: [Magnus Erik Hvass Pedersen](http://www.hvass-labs.org/)\n",
    "/ [GitHub](https://github.com/Hvass-Labs/TensorFlow-Tutorials) / [Videos on YouTube](https://www.youtube.com/playlist?list=PL9Hr9sNUjfsmEu1ZniY0XpHSzl5uihcXZ)\n",
    "\n"
   ]
  },
  {
   "cell_type": "markdown",
   "metadata": {},
   "source": [
    "## 介绍\n",
    "\n",
    "本教程介绍了使用TensorFlow实现简单线性模型的workflow。在加载MNISIT（手写字符图像数据集）后，我们使用TensorFlow定义并优化一个简单的数学模型。然后绘制并讨论结果。\n",
    "\n",
    "This tutorial demonstrates the basic workflow of using TensorFlow with a simple linear model. After loading the so-called MNIST data-set with images of hand-written digits, we define and optimize a simple mathematical model in TensorFlow. The results are then plotted and discussed.\n",
    "\n",
    "你应该熟悉基本的线性代数，Python，Jupyter Notebook编辑器。如果你对机器学习和分类有基本的了解，这也会帮助到你。\n",
    "\n",
    "You should be familiar with basic linear algebra, Python and the Jupyter Notebook editor. It also helps if you have a basic understanding of Machine Learning and classification."
   ]
  },
  {
   "cell_type": "markdown",
   "metadata": {},
   "source": [
    "## 导入必要库（Imports）"
   ]
  },
  {
   "cell_type": "code",
   "execution_count": 24,
   "metadata": {
    "collapsed": true
   },
   "outputs": [],
   "source": [
    "%matplotlib inline  \n",
    "import matplotlib.pyplot as plt\n",
    "import tensorflow as tf\n",
    "import numpy as np\n",
    "from sklearn.metrics import confusion_matrix"
   ]
  },
  {
   "cell_type": "markdown",
   "metadata": {},
   "source": [
    "This was developed using Python 3.5 (Anaconda) or later and TensorFlow version:"
   ]
  },
  {
   "cell_type": "code",
   "execution_count": 25,
   "metadata": {
    "collapsed": false
   },
   "outputs": [
    {
     "data": {
      "text/plain": [
       "'1.4.0'"
      ]
     },
     "execution_count": 25,
     "metadata": {},
     "output_type": "execute_result"
    }
   ],
   "source": [
    "tf.__version__"
   ]
  },
  {
   "cell_type": "markdown",
   "metadata": {},
   "source": [
    "大家可能会对上述代码中的第一句 %matplotlib inline有所好奇，该语句怎么是这样的？其作用是什么？\n",
    "\n",
    "这里Amusi引出两种介绍，第一种是根本性解释，第二种是适用于此代码的解释。\n",
    "\n",
    "**第一种解释[1]：**\n",
    "\n",
    "%matplotlib inline 是一个魔法函数（Magic Functions）。官方给出的定义是：IPython有一组预先定义好的所谓的魔法函数（Magic Functions），你可以通过命令行的语法形式来访问它们。可见“%matplotlib inline”就是模仿命令行来访问magic函数的在IPython中独有的形式。\n",
    "\n",
    "magic函数分两种：一种是面向行的，另一种是面向单元型的。\n",
    "\n",
    "行magic函数是用前缀“%”标注的，很像我们在系统中使用命令行时的形式，例如在Mac中就是你的用户名后面跟着“$”。“%”后面就是magic函数的参数了，但是它的参数是没有被写在括号或者引号中来传值的。\n",
    "\n",
    "单元型magic函数是由两个“%%”做前缀的，它的参数不仅是当前“%%”行后面的内容，也包括了在当前行以下的行。\n",
    "\n",
    "注意：既然是IPython的内置magic函数，那么在Pycharm中是不会支持的。\n",
    "\n",
    "总结：%matplotlib inline 可以在Ipython编译器里直接使用，功能是可以**内嵌绘图，并且可以省略掉plt.show()这一步。**\n",
    "\n",
    "\n",
    "**第二种解释[2]：**\n",
    "\n",
    "%matplotlib inline比较奇怪，而且无论你是用哪个python的IDE如spyder或者pycharm,这个地方都会报错，显示是invalid syntax（无效语法）。那为什么代码里面还是会有这一句呢？原来是这样的。\n",
    "%matplotlib作用\n",
    "\n",
    "是在使用jupyter notebook 或者 jupyter qtconsole的时候，才会经常用到%matplotlib，也就是说那一份代码可能就是别人使用jupyter notebook 或者 jupyter qtconsole进行编辑的。关于jupyter notebook是什么，可以参考这个链接：[Jupyter Notebook介绍、安装及使用教程][1]\n",
    "而%matplotlib具体作用是当你调用matplotlib.pyplot的绘图函数plot()进行绘图的时候，或者生成一个figure画布的时候，可以直接在你的python console里面生成图像。\n",
    "而我们在spyder或者pycharm实际运行代码的时候，可以直接注释掉这一句，也是可以运行成功的。如下示例：\n",
    "\n",
    "\n",
    "**Amusi 总结：**\n",
    "\n",
    "为了在Jupyter Notebook中使用matplotlib.pyplot的plot函数，即实现内嵌绘图，而需要加上%matplotlib inline\n",
    "\n",
    "参考：\n",
    "[1]：https://blog.csdn.net/liangzuojiayi/article/details/78183783?locationNum=8&fps=1\n",
    "[2]：https://www.jianshu.com/p/2dda5bb8ce7d"
   ]
  },
  {
   "cell_type": "markdown",
   "metadata": {},
   "source": [
    "## 加载数据（Load Data）"
   ]
  },
  {
   "cell_type": "markdown",
   "metadata": {},
   "source": [
    "如果在给定路径下，没有MNIST数据集，那么程序会自动下载该数据集（大约11MB）\n",
    "\n",
    "The MNIST data-set is about 11 MB and will be downloaded automatically if it is not located in the given path."
   ]
  },
  {
   "cell_type": "code",
   "execution_count": 26,
   "metadata": {
    "collapsed": false
   },
   "outputs": [
    {
     "name": "stdout",
     "output_type": "stream",
     "text": [
      "Extracting data/MNIST/train-images-idx3-ubyte.gz\n",
      "Extracting data/MNIST/train-labels-idx1-ubyte.gz\n",
      "Extracting data/MNIST/t10k-images-idx3-ubyte.gz\n",
      "Extracting data/MNIST/t10k-labels-idx1-ubyte.gz\n"
     ]
    }
   ],
   "source": [
    "from tensorflow.examples.tutorials.mnist import input_data\n",
    "data = input_data.read_data_sets(\"data/MNIST/\", one_hot=True)"
   ]
  },
  {
   "cell_type": "markdown",
   "metadata": {},
   "source": [
    "现在 MNIST数据集已经加载好，该数据集包含70,000幅图像和标签（即图像的类别）。数据集被分成3个互不交叉的子集（训练集、测试集和验证集），在本教程中，我们将只使用训练集和测试集。\n",
    "\n",
    "其中：\n",
    "\n",
    "- 训练集（Training set）：55000幅图像\n",
    "\n",
    "- 测试集（Test set）：10000幅图像\n",
    "\n",
    "- 验证集（Validation set）：5000幅图像\n",
    "\n",
    "The MNIST data-set has now been loaded and consists of 70.000 images and associated labels (i.e. classifications of the images). The data-set is split into 3 mutually exclusive sub-sets. We will only use the training and test-sets in this tutorial."
   ]
  },
  {
   "cell_type": "code",
   "execution_count": 27,
   "metadata": {
    "collapsed": false
   },
   "outputs": [
    {
     "name": "stdout",
     "output_type": "stream",
     "text": [
      "Size of:\n",
      "- Training-set:\t\t55000\n",
      "- Test-set:\t\t10000\n",
      "- Validation-set:\t5000\n"
     ]
    }
   ],
   "source": [
    "print(\"Size of:\")\n",
    "print(\"- Training-set:\\t\\t{}\".format(len(data.train.labels)))\n",
    "print(\"- Test-set:\\t\\t{}\".format(len(data.test.labels)))\n",
    "print(\"- Validation-set:\\t{}\".format(len(data.validation.labels)))"
   ]
  },
  {
   "cell_type": "markdown",
   "metadata": {},
   "source": [
    "### 独热编码（One-Hot Encoding）"
   ]
  },
  {
   "cell_type": "markdown",
   "metadata": {},
   "source": [
    "MNIST数据集由One-hot encoding方式加载。这意味着标签由单个数字（类别）转换成一个向量，其长度等价于可能类别数量（如有10类，则长度为10）。向量的所有元素除了第i个元素为 1之外（因为该标签的类别是i），其它元素都为0。\n",
    "\n",
    "The data-set has been loaded as so-called One-Hot encoding. This means the labels have been converted from a single number to a vector whose length equals the number of possible classes. All elements of the vector are zero except for the $i$'th element which is one and means the class is $i$. For example, the One-Hot encoded labels for the first 5 images in the test-set are:"
   ]
  },
  {
   "cell_type": "code",
   "execution_count": 28,
   "metadata": {
    "collapsed": false
   },
   "outputs": [
    {
     "data": {
      "text/plain": [
       "array([[0., 0., 0., 0., 0., 0., 0., 1., 0., 0.],\n",
       "       [0., 0., 1., 0., 0., 0., 0., 0., 0., 0.],\n",
       "       [0., 1., 0., 0., 0., 0., 0., 0., 0., 0.],\n",
       "       [1., 0., 0., 0., 0., 0., 0., 0., 0., 0.],\n",
       "       [0., 0., 0., 0., 1., 0., 0., 0., 0., 0.]])"
      ]
     },
     "execution_count": 28,
     "metadata": {},
     "output_type": "execute_result"
    }
   ],
   "source": [
    "# 输出测试集前5个标签的向量数据\n",
    "data.test.labels[0:5, :]"
   ]
  },
  {
   "cell_type": "markdown",
   "metadata": {},
   "source": [
    "我们还需要将类（classes）作为单个数字进行各种比较和性能测量，因此我们通过获取最高元素（其值为1）的索引来将One-Hot编码向量转换为单个数字。请注意，'class'这个词是Python中使用的关键字，因此我们需要使用名称'cls'。\n",
    "\n",
    "We also need the classes as single numbers for various comparisons and performance measures, so we convert the One-Hot encoded vectors to a single number by taking the index of the highest element. Note that the word 'class' is a keyword used in Python so we need to use the name 'cls' instead."
   ]
  },
  {
   "cell_type": "code",
   "execution_count": 29,
   "metadata": {
    "collapsed": true
   },
   "outputs": [],
   "source": [
    "# argmax(): Returns the indices of the maximum values along an axis\n",
    "data.test.cls = np.array([label.argmax() for label in data.test.labels])"
   ]
  },
  {
   "cell_type": "markdown",
   "metadata": {},
   "source": [
    "上面代码，我们使用了numpy的[argmax()函数](https://docs.scipy.org/doc/numpy-1.13.0/reference/generated/numpy.argmax.html)。该函数的作用是：Returns the indices of the maximum values along an axis。因为类别向量中只有1是最大值，而1所在的索引位置就是我们所要的值。argmax()正好完美适用！\n",
    "\n",
    "现在我们可以知道测试集中前5幅图像的类别。你可以将其与上述One-Hot编码向量进行比较。例如，第一幅图像的类是7，其对应于One-Hot编码向量中索引为7的元素，该元素值为1。\n",
    "\n",
    "We can now see the class for the first five images in the test-set. Compare these to the One-Hot encoded vectors above. For example, the class for the first image is 7, which corresponds to a One-Hot encoded vector where all elements are zero except for the element with index 7."
   ]
  },
  {
   "cell_type": "code",
   "execution_count": 30,
   "metadata": {
    "collapsed": false
   },
   "outputs": [
    {
     "data": {
      "text/plain": [
       "array([7, 2, 1, 0, 4], dtype=int64)"
      ]
     },
     "execution_count": 30,
     "metadata": {},
     "output_type": "execute_result"
    }
   ],
   "source": [
    "data.test.cls[0:5]"
   ]
  },
  {
   "cell_type": "markdown",
   "metadata": {},
   "source": [
    "### 数据维度（Data dimensions）"
   ]
  },
  {
   "cell_type": "markdown",
   "metadata": {},
   "source": [
    "数据维度会在下面的代码中被使用。在计算机编程中，最好使用使用变量（variables）和常量（constants），而不是每次使用该编号时候都必须对特定数字进行硬编码（hard-code）。这意味着数字只需要在一个地方被修改。理想情况下，这些数据可以从已经读取的数据中推断（inferred）出来，但在这里我们只是写出数字。\n",
    "\n",
    "The data dimensions are used in several places in the source-code below. In computer programming it is generally best to use variables and constants rather than having to hard-code specific numbers every time that number is used. This means the numbers only have to be changed in one single place. Ideally these would be inferred from the data that has been read, but here we just write the numbers."
   ]
  },
  {
   "cell_type": "code",
   "execution_count": 31,
   "metadata": {
    "collapsed": true
   },
   "outputs": [],
   "source": [
    "# MNIST图像数据的每个维度是28个像素（即28x28）\n",
    "img_size = 28\n",
    "\n",
    "# 图像存储在一维数组中\n",
    "img_size_flat = img_size * img_size\n",
    "\n",
    "# 将图像的高度和宽度变成不可变的元组（tuple），用于 reshape arrays。\n",
    "img_shape = (img_size, img_size)\n",
    "\n",
    "# 类别的数量：10，即每一类用一个数值来表示\n",
    "num_classes = 10"
   ]
  },
  {
   "cell_type": "markdown",
   "metadata": {},
   "source": [
    "### 绘图的帮助函数（Helper-function for plotting images）"
   ]
  },
  {
   "cell_type": "markdown",
   "metadata": {},
   "source": [
    "函数使用3x3网格绘制9幅图像，并在每幅图像下面显示真实正确的类别和预测的类别。\n",
    "\n",
    "Function used to plot 9 images in a 3x3 grid, and writing the true and predicted classes below each image."
   ]
  },
  {
   "cell_type": "code",
   "execution_count": 32,
   "metadata": {
    "collapsed": true
   },
   "outputs": [],
   "source": [
    "def plot_images(images, cls_true, cls_pred=None):\n",
    "    # 判断输入参数是否符合要求\n",
    "    assert len(images) == len(cls_true) == 9\n",
    "    \n",
    "    # 创建3x3的图和subplots的集合\n",
    "    fig, axes = plt.subplots(3, 3)\n",
    "    fig.subplots_adjust(hspace=0.3, wspace=0.3)\n",
    "\n",
    "    for i, ax in enumerate(axes.flat):\n",
    "        # 绘图\n",
    "        ax.imshow(images[i].reshape(img_shape), cmap='binary')\n",
    "        \n",
    "        # 显示正确和预测的类别\n",
    "        if cls_pred is None:\n",
    "            xlabel = \"True: {0}\".format(cls_true[i])  # \"{N}\".format(n0,n1,...,nN)一定要掌握这种写法\n",
    "        else:\n",
    "            xlabel = \"True: {0}, Pred: {1}\".format(cls_true[i], cls_pred[i])\n",
    "\n",
    "        ax.set_xlabel(xlabel)\n",
    "        \n",
    "        # 删除plot的刻度（ticks）\n",
    "        ax.set_xticks([])\n",
    "        ax.set_yticks([])\n",
    "        \n",
    "    # 在单个Notebook 单元格中正确的显示plot图。\n",
    "    plt.show()"
   ]
  },
  {
   "cell_type": "markdown",
   "metadata": {},
   "source": [
    "### 绘制一些图像检查数据是否正确"
   ]
  },
  {
   "cell_type": "code",
   "execution_count": 33,
   "metadata": {
    "collapsed": false
   },
   "outputs": [
    {
     "data": {
      "image/png": "[encoded data removed]",
      "text/plain": [
       "<matplotlib.figure.Figure at 0x23f98ce9c18>"
      ]
     },
     "metadata": {},
     "output_type": "display_data"
    }
   ],
   "source": [
    "# 从测试集中获得前9幅图像数据\n",
    "images = data.test.images[0:9]\n",
    "\n",
    "# 获得相应的正确类别\n",
    "cls_true = data.test.cls[0:9]\n",
    "\n",
    "# 使用上述函数绘制图像和标签（非预测）\n",
    "plot_images(images=images, cls_true=cls_true)"
   ]
  },
  {
   "cell_type": "markdown",
   "metadata": {},
   "source": [
    "## TensorFlow 图（Graph）\n",
    "\n",
    "TensorFlow 的目的是实现一个计算图（computational graph），与直接在Python中执行的计算相比，其可以更有效的执行。TensorFlow可以比Numpy更有效，因为TensorFlow知道必须执行的整个计算图，而Numpy一次只知道单个数学运算的计算。\n",
    "\n",
    "TensorFlow 还可以自动计算优化图中变量所需的梯度，以使得模型更好地运行。这是因为图（Graph）是简单数学表达式的组合，因此可以使用微分（derivatives）的链式法则（chain-rule）来计算整个图的梯度。\n",
    "\n",
    "TensorFlow 还可以利用多核CPU和GPU的，而且Google甚至为TensorFlow研发了专用芯片，称为TPU（Tensor Processing Units），甚至比GPU更快。\n",
    "\n",
    "TensorFlow图由以下部分组成，将在下面详述：\n",
    "\n",
    "- 占位符（Placeholder）变量用于改变图的输入\n",
    "\n",
    "- 模型变量将进行优化，以使模型表现更好\n",
    "\n",
    "- 模型本质上是数学函数，它很具占位符变量和模型变量的输入计算一些输出\n",
    "\n",
    "- 一种指导变量优化的代价度量（cost measure）\n",
    "\n",
    "- 一种更新模型变量的优化方法\n",
    "\n",
    "此外，TensorFlow图还可以包含各种调试语句，例如：可以由TensorBoard可视化的日志数据（本教程没有介绍）\n",
    "\n",
    "The entire purpose of TensorFlow is to have a so-called computational graph that can be executed much more efficiently than if the same calculations were to be performed directly in Python. TensorFlow can be more efficient than NumPy because TensorFlow knows the entire computation graph that must be executed, while NumPy only knows the computation of a single mathematical operation at a time.\n",
    "\n",
    "TensorFlow can also automatically calculate the gradients that are needed to optimize the variables of the graph so as to make the model perform better. This is because the graph is a combination of simple mathematical expressions so the gradient of the entire graph can be calculated using the chain-rule for derivatives.\n",
    "\n",
    "TensorFlow can also take advantage of multi-core CPUs as well as GPUs - and Google has even built special chips just for TensorFlow which are called TPUs (Tensor Processing Units) and are even faster than GPUs.\n",
    "\n",
    "A TensorFlow graph consists of the following parts which will be detailed below:\n",
    "\n",
    "* Placeholder variables used to change the input to the graph.\n",
    "* Model variables that are going to be optimized so as to make the model perform better.\n",
    "* The model which is essentially just a mathematical function that calculates some output given the input in the placeholder variables and the model variables.\n",
    "* A cost measure that can be used to guide the optimization of the variables.\n",
    "* An optimization method which updates the variables of the model.\n",
    "\n",
    "In addition, the TensorFlow graph may also contain various debugging statements e.g. for logging data to be displayed using TensorBoard, which is not covered in this tutorial."
   ]
  },
  {
   "cell_type": "markdown",
   "metadata": {},
   "source": [
    "### 占位符变量（Placeholder variables）"
   ]
  },
  {
   "cell_type": "markdown",
   "metadata": {},
   "source": [
    "占位符变量（Placeholder variables）作为图的输入，我们可以在每次执行图的时候进行更改。我们称之为 喂（feeding）占位符变量，并在下面进一步说明。\n",
    "\n",
    "Placeholder variables serve as the input to the graph that we may change each time we execute the graph. We call this feeding the placeholder variables and it is demonstrated further below.\n",
    "\n",
    "首先，我们定义输入图像的**占位符变量‘x’**。这允许我们改变输入到TensorFlow图的图像。这是一个所谓的张量（tensor），这意味着它是一个多维向量或矩阵。**该占位符的数据类型设置成‘float32’，形状设置成‘[None, img_size_flat]’，其中‘None’表示张量可以存储（hold）任意数量的图像，每个图像是长度为‘img_size_flat’的向量。**\n",
    "\n",
    "First we define the placeholder variable for the input images. This allows us to change the images that are input to the TensorFlow graph. This is a so-called tensor, which just means that it is a multi-dimensional vector or matrix. The data-type is set to `float32` and the shape is set to `[None, img_size_flat]`, where `None` means that the tensor may hold an arbitrary number of images with each image being a vector of length `img_size_flat`."
   ]
  },
  {
   "cell_type": "code",
   "execution_count": 34,
   "metadata": {
    "collapsed": true
   },
   "outputs": [],
   "source": [
    "x = tf.placeholder(tf.float32, [None, img_size_flat])"
   ]
  },
  {
   "cell_type": "markdown",
   "metadata": {},
   "source": [
    "接下来，我们定义占位符变量**‘y_true’**，其是存放与占位符‘x’中输入图像相关联的真实标签。**该占位符变量的数据类型设置成‘float32’，形状是‘[None, num_classes]’，这意味着它可以包含任意数量的标签，每个标签是长度为‘num_classes’的向量，在这种情况下为10。**\n",
    "\n",
    "Next we have the placeholder variable for the true labels associated with the images that were input in the placeholder variable `x`. The shape of this placeholder variable is `[None, num_classes]` which means it may hold an arbitrary number of labels and each label is a vector of length `num_classes` which is 10 in this case."
   ]
  },
  {
   "cell_type": "code",
   "execution_count": 35,
   "metadata": {
    "collapsed": true
   },
   "outputs": [],
   "source": [
    "y_true = tf.placeholder(tf.float32, [None, num_classes])"
   ]
  },
  {
   "cell_type": "markdown",
   "metadata": {},
   "source": [
    "最后，我们定义**占位符变量‘y_true_cls’**，其实存放与占位符‘x’中输入图像相关的类别。**该占位符的数据类型设置成‘int64’，形状设置为‘[None]’，这意味着该占位符变量是任意长度的一维向量。**\n",
    "\n",
    "Finally we have the placeholder variable for the true class of each image in the placeholder variable `x`. These are integers and the dimensionality of this placeholder variable is set to `[None]` which means the placeholder variable is a one-dimensional vector of arbitrary length."
   ]
  },
  {
   "cell_type": "code",
   "execution_count": 36,
   "metadata": {
    "collapsed": true
   },
   "outputs": [],
   "source": [
    "y_true_cls = tf.placeholder(tf.int64, [None])"
   ]
  },
  {
   "cell_type": "markdown",
   "metadata": {},
   "source": [
    "### 待优化的变量（Variables to be optimized）"
   ]
  },
  {
   "cell_type": "markdown",
   "metadata": {},
   "source": [
    "除了上面定义用作将输入数据输入到模型中的占位符变量之外，还有一些模型变量必须由TensorFlow进行更改，以使模型在训练数据上表现更好。\n",
    "\n",
    "Apart from the placeholder variables that were defined above and which serve as feeding input data into the model, there are also some model variables that must be changed by TensorFlow so as to make the model perform better on the training data.\n",
    "\n",
    "必须优化的第一个变量称为**“权重（weights）”**，在这里定义为TensorFlow变量，必须用零初始化，形状为[img_size_flat，num_classes]，因此它是具有`img_size_flat`行和`num_classes`列的二维张量（或矩阵） 。\n",
    "\n",
    "The first variable that must be optimized is called `weights` and is defined here as a TensorFlow variable that must be initialized with zeros and whose shape is `[img_size_flat, num_classes]`, so it is a 2-dimensional tensor (or matrix) with `img_size_flat` rows and `num_classes` columns."
   ]
  },
  {
   "cell_type": "code",
   "execution_count": 41,
   "metadata": {
    "collapsed": true
   },
   "outputs": [],
   "source": [
    "# tf.zeros: 返回全是由0元素组成的值\n",
    "weights = tf.Variable(tf.zeros([img_size_flat, num_classes]))"
   ]
  },
  {
   "cell_type": "markdown",
   "metadata": {},
   "source": [
    "第二个必须要优化的变量称为**“偏置（biases)”**，其实长度为‘num_classes’的一维度张量（或向量）。这里也初始化为零。\n",
    "\n",
    "The second variable that must be optimized is called `biases` and is defined as a 1-dimensional tensor (or vector) of length `num_classes`."
   ]
  },
  {
   "cell_type": "code",
   "execution_count": 44,
   "metadata": {
    "collapsed": true
   },
   "outputs": [],
   "source": [
    "biases = tf.Variable(tf.zeros([num_classes]))"
   ]
  },
  {
   "cell_type": "markdown",
   "metadata": {},
   "source": [
    "### 模型（Model）"
   ]
  },
  {
   "cell_type": "markdown",
   "metadata": {},
   "source": [
    "简单的数学模型是将占位符变量‘x’乘以权重‘weights’，并加上偏置‘biases’\n",
    "\n",
    "This simple mathematical model multiplies the images in the placeholder variable `x` with the `weights` and then adds the `biases`.\n",
    "\n",
    "根据矩阵性质，输出结果是形状为‘[num_images, num_classes]’的矩阵。因为‘x’的形状为‘[num_images, img_size_flat]’，‘weights’的形状为‘[img_size_flat, num_classes]’，所以这两个矩阵相乘的结果是形状为‘[num_images, num_classes]’的矩阵。然后将‘biases’向量加到矩阵的每一行上（利用广播的特性）。\n",
    "\n",
    "The result is a matrix of shape `[num_images, num_classes]` because `x` has shape `[num_images, img_size_flat]` and `weights` has shape `[img_size_flat, num_classes]`, so the multiplication of those two matrices is a matrix with shape `[num_images, num_classes]` and then the `biases` vector is added to each row of that matrix.\n",
    "\n",
    "注意：名称‘logits’是典型的TensorFlow术语（terminogy），但你也可以叫做其它变量。\n",
    "\n",
    "Note that the name `logits` is typical TensorFlow terminology, but other people may call the variable something else."
   ]
  },
  {
   "cell_type": "code",
   "execution_count": 47,
   "metadata": {
    "collapsed": true
   },
   "outputs": [],
   "source": [
    "logits = tf.matmul(x, weights) + biases"
   ]
  },
  {
   "cell_type": "markdown",
   "metadata": {},
   "source": [
    "现在`logits`是一个带有`num_images`行和`num_classes`列的矩阵，其中第 i 行和第 j 列的元素是对第 i 幅输入图像估计为第 j 类的可能性（概率值）。\n",
    "\n",
    "Now `logits` is a matrix with `num_images` rows and `num_classes` columns, where the element of the $i$'th row and $j$'th column is an estimate of how likely the $i$'th input image is to be of the $j$'th class.\n",
    "\n",
    "然而，这些估计是大概的（rough）值且难以解释，因为这些数字可能非常小或很大，所以我们想对它们进行归一化处理，以使`logits`矩阵的每一行总和为1（因为概率值和为1)，并且每个元素被限制在[0,1]。这是使用所谓的[softmax函数](https://zh.wikipedia.org/wiki/Softmax函数)（又称归一化指数函数）计算的，结果存储在`y_pred`中。\n",
    "\n",
    "However, these estimates are a bit rough and difficult to interpret because the numbers may be very small or large, so we want to normalize them so that each row of the `logits` matrix sums to one, and each element is limited between zero and one. This is calculated using the so-called softmax function and the result is stored in `y_pred`.\n",
    "\n",
    "注：附上Softmax相关资源\n",
    "\n",
    "[1] [Softmax function wiki](https://en.wikipedia.org/wiki/Softmax_function)\n",
    "\n",
    "[2] [Softmax 函数的特点和作用是什么？](https://www.zhihu.com/question/23765351)\n",
    "\n",
    "[3] [Softmax回归](http://ufldl.stanford.edu/wiki/index.php/Softmax回归)"
   ]
  },
  {
   "cell_type": "code",
   "execution_count": 48,
   "metadata": {
    "collapsed": true
   },
   "outputs": [],
   "source": [
    "y_pred = tf.nn.softmax(logits)"
   ]
  },
  {
   "cell_type": "markdown",
   "metadata": {},
   "source": [
    "可以通过获取 `y_pred`矩阵中每行中最大元素的索引计算预测的类别 `y_pred_cls`。\n",
    "\n",
    "The predicted class can be calculated from the `y_pred` matrix by taking the index of the largest element in each row."
   ]
  },
  {
   "cell_type": "code",
   "execution_count": 50,
   "metadata": {
    "collapsed": true
   },
   "outputs": [],
   "source": [
    "y_prde_cls = tf.argmax(y_pred, axis=1)"
   ]
  },
  {
   "cell_type": "markdown",
   "metadata": {},
   "source": [
    "### TODO\n",
    "\n",
    "- 待优化的代价函数\n",
    "\n",
    "- 优化策略\n",
    "\n",
    "- 创建会话\n",
    "\n",
    "- 训练\n",
    "\n",
    "- 测试\n",
    "\n",
    "- ..."
   ]
  },
  {
   "cell_type": "markdown",
   "metadata": {},
   "source": [
    "Copyright (c) 2016 by [Magnus Erik Hvass Pedersen](http://www.hvass-labs.org/)\n",
    "\n",
    "Permission is hereby granted, free of charge, to any person obtaining a copy of this software and associated documentation files (the \"Software\"), to deal in the Software without restriction, including without limitation the rights to use, copy, modify, merge, publish, distribute, sublicense, and/or sell copies of the Software, and to permit persons to whom the Software is furnished to do so, subject to the following conditions:\n",
    "\n",
    "The above copyright notice and this permission notice shall be included in all copies or substantial portions of the Software.\n",
    "\n",
    "THE SOFTWARE IS PROVIDED \"AS IS\", WITHOUT WARRANTY OF ANY KIND, EXPRESS OR IMPLIED, INCLUDING BUT NOT LIMITED TO THE WARRANTIES OF MERCHANTABILITY, FITNESS FOR A PARTICULAR PURPOSE AND NONINFRINGEMENT. IN NO EVENT SHALL THE AUTHORS OR COPYRIGHT HOLDERS BE LIABLE FOR ANY CLAIM, DAMAGES OR OTHER LIABILITY, WHETHER IN AN ACTION OF CONTRACT, TORT OR OTHERWISE, ARISING FROM, OUT OF OR IN CONNECTION WITH THE SOFTWARE OR THE USE OR OTHER DEALINGS IN THE SOFTWARE."
   ]
  }
 ],
 "metadata": {
  "anaconda-cloud": {},
  "kernelspec": {
   "display_name": "Python [default]",
   "language": "python",
   "name": "python3"
  },
  "language_info": {
   "codemirror_mode": {
    "name": "ipython",
    "version": 3
   },
   "file_extension": ".py",
   "mimetype": "text/x-python",
   "name": "python",
   "nbconvert_exporter": "python",
   "pygments_lexer": "ipython3",
   "version": "3.5.2"
  },
  "toc": {
   "base_numbering": 1,
   "nav_menu": {},
   "number_sections": true,
   "sideBar": true,
   "skip_h1_title": false,
   "title_cell": "Table of Contents",
   "title_sidebar": "Contents",
   "toc_cell": false,
   "toc_position": {},
   "toc_section_display": true,
   "toc_window_display": false
  }
 },
 "nbformat": 4,
 "nbformat_minor": 0
}
